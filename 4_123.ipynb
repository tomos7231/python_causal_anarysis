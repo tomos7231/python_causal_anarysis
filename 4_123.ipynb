{
 "cells": [
  {
   "cell_type": "markdown",
   "id": "b03af148-cbb0-4e42-803a-62c99ec3d774",
   "metadata": {},
   "source": [
    "# やること\n",
    "- テレビcmによる効果を推定する\n",
    "- 年齢や性別という共変量を持つ場合を考える"
   ]
  },
  {
   "cell_type": "markdown",
   "id": "b190c877-a546-4479-a005-6dfefb498213",
   "metadata": {},
   "source": [
    "<script type=\"text/javascript\" async src=\"https://cdnjs.cloudflare.com/ajax/libs/mathjax/2.7.7/MathJax.js?config=TeX-MML-AM_CHTML\">\n",
    "</script>\n",
    "<script type=\"text/x-mathjax-config\">\n",
    " MathJax.Hub.Config({\n",
    " tex2jax: {\n",
    " inlineMath: [['$', '$'] ],\n",
    " displayMath: [ ['$$','$$'], [\"\\\\[\",\"\\\\]\"] ]\n",
    " }\n",
    " });\n",
    "</script>"
   ]
  },
  {
   "cell_type": "code",
   "execution_count": 1,
   "id": "33a8e395-d1d6-462d-a565-4b6663e508a5",
   "metadata": {},
   "outputs": [],
   "source": [
    "import random\n",
    "import numpy as np\n",
    "np.random.seed(1234)\n",
    "random.seed(1234)\n",
    "\n",
    "import pandas as pd\n",
    "from scipy.special import expit\n",
    "from numpy.random import *\n",
    "import scipy.stats\n",
    "import os\n",
    "\n",
    "import matplotlib.pyplot as plt\n",
    "%matplotlib inline\n",
    "\n",
    "plt.style.use('ggplot')"
   ]
  },
  {
   "cell_type": "code",
   "execution_count": 2,
   "id": "42abfd11-70c0-448e-aa83-4f49af5f105e",
   "metadata": {},
   "outputs": [],
   "source": [
    "num_data = 200\n",
    "\n",
    "# 年齢変数（15から76の一様乱数）\n",
    "x_1 = randint(15, 76, num_data)\n",
    "\n",
    "# 性別（1を男性）\n",
    "x_2 = randint(0, 2, num_data)\n",
    "\n",
    "# ノイズ\n",
    "e_z = randn(num_data)\n",
    "\n",
    "# シグモイド間数\n",
    "z_base = x_1 + (1 - x_2)*10 - 40 + 5*e_z\n",
    "\n",
    "# シグモイド関数を計算\n",
    "z_prob = expit(0.1*z_base)\n",
    "\n",
    "# テレビCMを見たかどうか\n",
    "Z = np.array([])\n",
    "\n",
    "# シグモイド関数からテレビを見たか確率計算して作る\n",
    "for i in range(num_data):\n",
    "    Z_i = np.random.choice(2, size = 1, p = [1 - z_prob[i], z_prob[i]])[0]\n",
    "    Z = np.append(Z, Z_i)"
   ]
  },
  {
   "cell_type": "code",
   "execution_count": 3,
   "id": "b39c2dfa-9e24-4341-bc9f-67012165ada2",
   "metadata": {},
   "outputs": [],
   "source": [
    "# 購入量Yを定義\n",
    "e_y = randn(num_data)\n",
    "\n",
    "Y = -x_1 + 30*x_2 + 10*Z + 80 + 10*e_y"
   ]
  },
  {
   "cell_type": "code",
   "execution_count": 4,
   "id": "4981563d-357a-4ecd-9f1c-6c4ea1ac3649",
   "metadata": {},
   "outputs": [
    {
     "data": {
      "text/html": [
       "<div>\n",
       "<style scoped>\n",
       "    .dataframe tbody tr th:only-of-type {\n",
       "        vertical-align: middle;\n",
       "    }\n",
       "\n",
       "    .dataframe tbody tr th {\n",
       "        vertical-align: top;\n",
       "    }\n",
       "\n",
       "    .dataframe thead th {\n",
       "        text-align: right;\n",
       "    }\n",
       "</style>\n",
       "<table border=\"1\" class=\"dataframe\">\n",
       "  <thead>\n",
       "    <tr style=\"text-align: right;\">\n",
       "      <th></th>\n",
       "      <th>age</th>\n",
       "      <th>sex</th>\n",
       "      <th>watch_cm</th>\n",
       "      <th>purchase_amount</th>\n",
       "    </tr>\n",
       "  </thead>\n",
       "  <tbody>\n",
       "    <tr>\n",
       "      <th>0</th>\n",
       "      <td>62</td>\n",
       "      <td>0</td>\n",
       "      <td>1.0</td>\n",
       "      <td>24.464285</td>\n",
       "    </tr>\n",
       "    <tr>\n",
       "      <th>1</th>\n",
       "      <td>34</td>\n",
       "      <td>0</td>\n",
       "      <td>0.0</td>\n",
       "      <td>45.693411</td>\n",
       "    </tr>\n",
       "    <tr>\n",
       "      <th>2</th>\n",
       "      <td>53</td>\n",
       "      <td>1</td>\n",
       "      <td>1.0</td>\n",
       "      <td>64.998281</td>\n",
       "    </tr>\n",
       "    <tr>\n",
       "      <th>3</th>\n",
       "      <td>68</td>\n",
       "      <td>1</td>\n",
       "      <td>1.0</td>\n",
       "      <td>47.186898</td>\n",
       "    </tr>\n",
       "    <tr>\n",
       "      <th>4</th>\n",
       "      <td>27</td>\n",
       "      <td>1</td>\n",
       "      <td>0.0</td>\n",
       "      <td>100.114260</td>\n",
       "    </tr>\n",
       "  </tbody>\n",
       "</table>\n",
       "</div>"
      ],
      "text/plain": [
       "   age  sex  watch_cm  purchase_amount\n",
       "0   62    0       1.0        24.464285\n",
       "1   34    0       0.0        45.693411\n",
       "2   53    1       1.0        64.998281\n",
       "3   68    1       1.0        47.186898\n",
       "4   27    1       0.0       100.114260"
      ]
     },
     "execution_count": 4,
     "metadata": {},
     "output_type": "execute_result"
    }
   ],
   "source": [
    "# データフレームで見る\n",
    "df = pd.DataFrame({'age': x_1,\n",
    "                   'sex': x_2,\n",
    "                   'watch_cm': Z,\n",
    "                   'purchase_amount': Y,\n",
    "                   })\n",
    "\n",
    "df.head()  # 先頭を表示"
   ]
  },
  {
   "cell_type": "code",
   "execution_count": 5,
   "id": "eb6aedbd-17d2-4256-ba02-67a51a2a90c3",
   "metadata": {},
   "outputs": [
    {
     "name": "stdout",
     "output_type": "stream",
     "text": [
      "                age       sex  purchase_amount\n",
      "watch_cm                                      \n",
      "0.0       32.141026  0.692308        68.827143\n",
      "1.0       55.836066  0.483607        49.711478\n"
     ]
    }
   ],
   "source": [
    "# 平均値で比較してみる\n",
    "print(df.groupby('watch_cm').mean())"
   ]
  },
  {
   "cell_type": "markdown",
   "id": "b103fccd-e58d-44d6-92c4-b1073742eb51",
   "metadata": {},
   "source": [
    "cmを見るかどうかのシグモイド関数は女性であり、高齢であるほど値が大きくなる。一方で、購入量は若く男性の方が大きくなるので、cmの効果が正しく推定できていない。"
   ]
  },
  {
   "cell_type": "code",
   "execution_count": 6,
   "id": "8fe7cfad-da21-4644-ba3d-760806c41ee2",
   "metadata": {},
   "outputs": [
    {
     "name": "stdout",
     "output_type": "stream",
     "text": [
      "[-0.95817951 32.70149412 10.41327647]\n"
     ]
    }
   ],
   "source": [
    "# 回帰分析を実行\n",
    "from sklearn.linear_model import LinearRegression\n",
    "\n",
    "x = df[['age', 'sex', 'watch_cm']]\n",
    "y = df['purchase_amount']\n",
    "\n",
    "model = LinearRegression().fit(x, y)\n",
    "\n",
    "print(model.coef_)"
   ]
  },
  {
   "cell_type": "markdown",
   "id": "33e31401-c072-4c67-adc7-935337ee70ed",
   "metadata": {},
   "source": [
    "# 傾向スコアを用いたIPW"
   ]
  },
  {
   "cell_type": "markdown",
   "id": "91bc3b13-a28b-4e67-a849-ff2124bc421c",
   "metadata": {},
   "source": [
    "調整化公式を用いた変形を行うと以下の通りとなる。\n",
    "\n",
    "\n",
    "$$P(Y = y|do(Z=z))=\\sum_{x}{P(x, y, z)/P(z|x)}$$"
   ]
  },
  {
   "cell_type": "code",
   "execution_count": 7,
   "id": "e8020597-e679-43bc-a916-1061cc7d173b",
   "metadata": {},
   "outputs": [
    {
     "name": "stdout",
     "output_type": "stream",
     "text": [
      "係数 [[ 0.10562765 -1.38263933]]\n",
      "切片 [-3.37146523]\n"
     ]
    }
   ],
   "source": [
    "from sklearn.linear_model import LogisticRegression\n",
    "\n",
    "# 傾向スコアの推定。ロジスティック回帰を使う。\n",
    "x = df[['age', 'sex']]\n",
    "z = df['watch_cm']\n",
    "\n",
    "reg = LogisticRegression().fit(x, z)\n",
    "\n",
    "print('係数', reg.coef_)\n",
    "print('切片', reg.intercept_)"
   ]
  },
  {
   "cell_type": "code",
   "execution_count": 8,
   "id": "e40c9071-0bd7-4275-b4c0-5ba7095f1aa9",
   "metadata": {},
   "outputs": [
    {
     "name": "stdout",
     "output_type": "stream",
     "text": [
      "[[0.04002323 0.95997677]\n",
      " [0.44525168 0.55474832]\n",
      " [0.30065918 0.69934082]\n",
      " [0.08101946 0.91898054]\n",
      " [0.87013558 0.12986442]]\n"
     ]
    }
   ],
   "source": [
    "z_pred = reg.predict_proba(x)\n",
    "print(z_pred[0:5])"
   ]
  },
  {
   "cell_type": "markdown",
   "id": "a119a7c1-eced-4f72-afc2-55be2a239872",
   "metadata": {},
   "source": [
    "平均処置効果は\n",
    "$$ATE = E(Y_1) - E(Y_0) = E(Y_1|do(Z=1)) - E(Y_0|do(Z=0))$$\n",
    "\n",
    "調整化公式を用いて変形すると\n",
    "\n",
    "$$ATE = \\sum_{x}E(Y|Z=1, X=x)P(X=x) - \\sum_{x}E(Y|Z=0, X=x)P(X=x)$$\n",
    "\n",
    "$$= \\frac{1}{N}\\sum_{i}^{N} \\frac{y_{i}}{P(Z=1|X=x_{i})}Z_{i} - \\frac{1}{N}\\sum_{i}^{N} \\frac{y_{i}}{P(Z=0|X=x_{i})}(1-Z_{i})$$"
   ]
  },
  {
   "cell_type": "code",
   "execution_count": 9,
   "id": "82730b23-a370-46c2-9982-1d596c158338",
   "metadata": {},
   "outputs": [
    {
     "name": "stdout",
     "output_type": "stream",
     "text": [
      "ATE 8.847476810855458\n"
     ]
    }
   ],
   "source": [
    "ate_i = y/z_pred[:, 1]*z - y/z_pred[:, 0]*(1-z)\n",
    "ate = 1/len(y)*ate_i.sum()\n",
    "print('ATE', ate)"
   ]
  },
  {
   "cell_type": "markdown",
   "id": "b458ee74-2b4f-42eb-8845-13e40c381013",
   "metadata": {},
   "source": [
    "# Doubly Robust Estimation"
   ]
  },
  {
   "cell_type": "code",
   "execution_count": 10,
   "id": "7d79bb96-8d03-4cce-94dd-915bd0a1c36b",
   "metadata": {},
   "outputs": [],
   "source": [
    "# 回帰分析によるyの推定\n",
    "# ===================================\n",
    "x = df[['age', 'sex', 'watch_cm']]\n",
    "y = df['purchase_amount']\n",
    "\n",
    "model = LinearRegression().fit(x, y)\n",
    "\n",
    "# z=0の場合の予測値作る\n",
    "x_0 = x.copy()\n",
    "x_0['watch_cm'] = 0\n",
    "y_0 = model.predict(x_0)\n",
    "\n",
    "# z=1の場合の予測値作る\n",
    "x_1 = x.copy()\n",
    "x_1['watch_cm'] = 1\n",
    "y_1 = model.predict(x_1)\n",
    "\n",
    "# ロジスティック回帰によるzの推定\n",
    "# ===================================\n",
    "x = df[['age', 'sex']]\n",
    "z = df['watch_cm']\n",
    "\n",
    "reg = LogisticRegression().fit(x, z)\n",
    "\n",
    "z_pred = reg.predict_proba(x)"
   ]
  },
  {
   "cell_type": "code",
   "execution_count": 11,
   "id": "4f26ff2f-530f-4956-b7ba-21866a6dd044",
   "metadata": {},
   "outputs": [
    {
     "name": "stdout",
     "output_type": "stream",
     "text": [
      "ATE 9.75277505424846\n"
     ]
    }
   ],
   "source": [
    "ate_1_i = y/z_pred[:, 1]*z + (1 - z/z_pred[:, 1])*y_1\n",
    "ate_0_i = y/z_pred[:, 0]*(1-z) + (1-(1 - z)/z_pred[:, 0])*y_0\n",
    "ate = 1/len(y)*(ate_1_i - ate_0_i).sum()\n",
    "print('ATE', ate)"
   ]
  },
  {
   "cell_type": "code",
   "execution_count": null,
   "id": "a009a675-915b-4845-a6ce-905d503bec84",
   "metadata": {},
   "outputs": [],
   "source": []
  }
 ],
 "metadata": {
  "kernelspec": {
   "display_name": "Python 3 (ipykernel)",
   "language": "python",
   "name": "python3"
  },
  "language_info": {
   "codemirror_mode": {
    "name": "ipython",
    "version": 3
   },
   "file_extension": ".py",
   "mimetype": "text/x-python",
   "name": "python",
   "nbconvert_exporter": "python",
   "pygments_lexer": "ipython3",
   "version": "3.9.13"
  }
 },
 "nbformat": 4,
 "nbformat_minor": 5
}
